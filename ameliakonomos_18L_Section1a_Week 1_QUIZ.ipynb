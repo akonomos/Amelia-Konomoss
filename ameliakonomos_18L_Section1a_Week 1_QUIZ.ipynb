{
 "cells": [
  {
   "cell_type": "code",
   "execution_count": 2,
   "metadata": {},
   "outputs": [],
   "source": [
    "#question 2\n",
    "#first quiz assignment"
   ]
  },
  {
   "cell_type": "code",
   "execution_count": 5,
   "metadata": {},
   "outputs": [],
   "source": [
    "import numpy as np"
   ]
  },
  {
   "cell_type": "code",
   "execution_count": 40,
   "metadata": {},
   "outputs": [],
   "source": [
    "def cumulative_integer_sum(limit):\n",
    "    list1 = np.arange(1, limit)\n",
    "    total = np.sum(list1)\n",
    "    return total"
   ]
  },
  {
   "cell_type": "code",
   "execution_count": 41,
   "metadata": {},
   "outputs": [
    {
     "name": "stdout",
     "output_type": "stream",
     "text": [
      "113050\n"
     ]
    }
   ],
   "source": [
    "print(cumulative_integer_sum(476))"
   ]
  },
  {
   "cell_type": "code",
   "execution_count": 42,
   "metadata": {},
   "outputs": [],
   "source": [
    "#yay"
   ]
  },
  {
   "cell_type": "code",
   "execution_count": 62,
   "metadata": {},
   "outputs": [
    {
     "name": "stdout",
     "output_type": "stream",
     "text": [
      "233168\n"
     ]
    },
    {
     "name": "stderr",
     "output_type": "stream",
     "text": [
      "/Users/amelia/opt/anaconda3/lib/python3.7/site-packages/ipykernel_launcher.py:3: DeprecationWarning: Calling np.sum(generator) is deprecated, and in the future will give a different result. Use np.sum(np.fromiter(generator)) or the python sum builtin instead.\n",
      "  This is separate from the ipykernel package so we can avoid doing imports until\n"
     ]
    }
   ],
   "source": [
    "#question 2\n",
    "def sum_of_3_and_5_multiples_below(limit):\n",
    "    list1 = np.sum(s for s in np.arange(0,limit) if s % 3 == 0 or s % 5 == 0)\n",
    "    return list1\n",
    "print(sum_of_3_and_5_multiples_below(1000))\n",
    "        "
   ]
  },
  {
   "cell_type": "code",
   "execution_count": 73,
   "metadata": {},
   "outputs": [
    {
     "name": "stdout",
     "output_type": "stream",
     "text": [
      "4613732\n"
     ]
    }
   ],
   "source": [
    "# question 3\n",
    "def sum_of_even_fibonacci_below(limit): #define function\n",
    "    start_num = 0 #starts fibbonacci at 0\n",
    "    a = 0 \n",
    "    b = 1\n",
    "    \n",
    "    while b <= limit:\n",
    "        if b % 2 == 0:\n",
    "            start_num += b #even number will appear in sequence\n",
    "        a, b = b, a + b #b is sum\n",
    "    return start_num\n",
    "\n",
    "print(sum_of_even_fibonacci_below(4000000))\n",
    "\n"
   ]
  },
  {
   "cell_type": "code",
   "execution_count": 76,
   "metadata": {},
   "outputs": [
    {
     "name": "stdout",
     "output_type": "stream",
     "text": [
      "25164150\n"
     ]
    }
   ],
   "source": [
    "#question 4\n",
    "def sum_square_difference(num_terms): #define function\n",
    "    numlist = np.arange(0, num_terms + 1) #list of numbers\n",
    "    \n",
    "    sum_numlist = np.sum(numlist) #summing all terms in the list\n",
    "    sum_numlist_sqr = np.power(sum_numlist, 2) #sqares sum_numlist\n",
    "    \n",
    "        \n",
    "    sqr_numlist = [x ** 2 for x in numlist] #squares list\n",
    "    sqr_numlistsum = np.sum(sqr_numlist)\n",
    "    \n",
    "    final_num = sum_numlist_sqr - sqr_numlistsum #difference\n",
    "    return final_num\n",
    "print(sum_square_difference(100))\n",
    "    \n",
    "    \n",
    "    "
   ]
  },
  {
   "cell_type": "code",
   "execution_count": 90,
   "metadata": {},
   "outputs": [
    {
     "name": "stdout",
     "output_type": "stream",
     "text": [
      "5\n"
     ]
    }
   ],
   "source": [
    "#question 5\n",
    "def prime_num(x): #defining what a prime is \n",
    "    for i in range(2,x):\n",
    "        if x % i == 0:\n",
    "            return False\n",
    "        break\n",
    "    return True #return def\n",
    "\n",
    "def nth_prime(max_prime_number): #defining the function\n",
    "    num_pr = 3 #second num\n",
    "    prime = 2 #first num\n",
    "    if max_prime_number == 1:\n",
    "        return 2\n",
    "    while prime < max_prime_number:\n",
    "        num_pr += 2\n",
    "        if prime_num(num_pr):\n",
    "            prime += 1\n",
    "        return num_pr\n",
    "\n",
    "max_prime_number = 6\n",
    "print(nth_prime(max_prime_number))\n",
    "    \n",
    "        "
   ]
  },
  {
   "cell_type": "code",
   "execution_count": 97,
   "metadata": {},
   "outputs": [
    {
     "name": "stdout",
     "output_type": "stream",
     "text": [
      "104743\n"
     ]
    }
   ],
   "source": [
    "#5\n",
    "def prime_num(x):\n",
    "    if x <=1:\n",
    "        return False\n",
    "    for i in range (2, x):\n",
    "        if x % i ==0:\n",
    "            return False\n",
    "    return True\n",
    "\n",
    "def nth_prime(max_prime_index):\n",
    "    \n",
    "    n = 0\n",
    "    nprimes = 0\n",
    "    \n",
    "    while nprimes <= (max_prime_index - 1):\n",
    "        n +=1\n",
    "        \n",
    "        if prime_num(n) == True:\n",
    "            nprimes += 1\n",
    "        \n",
    "    return n\n",
    "\n",
    "print(nth_prime(10001))\n",
    "    "
   ]
  },
  {
   "cell_type": "code",
   "execution_count": null,
   "metadata": {},
   "outputs": [],
   "source": []
  }
 ],
 "metadata": {
  "kernelspec": {
   "display_name": "Python 3",
   "language": "python",
   "name": "python3"
  },
  "language_info": {
   "codemirror_mode": {
    "name": "ipython",
    "version": 3
   },
   "file_extension": ".py",
   "mimetype": "text/x-python",
   "name": "python",
   "nbconvert_exporter": "python",
   "pygments_lexer": "ipython3",
   "version": "3.7.4"
  }
 },
 "nbformat": 4,
 "nbformat_minor": 2
}
