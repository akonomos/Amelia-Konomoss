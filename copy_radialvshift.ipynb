{
 "cells": [
  {
   "cell_type": "code",
   "execution_count": 21,
   "metadata": {},
   "outputs": [],
   "source": [
    "import numpy as np\n",
    "import os\n",
    "import matplotlib.pyplot as plt\n",
    "import pandas as pd\n",
    "#purpose of code is to shift calibrated wavelenght solutions onto planetary rest frames\n",
    "#we have λ which is the observed wavelength and want to find λ0\n",
    "#recall doppler equation Δλ/λ0=v/c"
   ]
  },
  {
   "cell_type": "code",
   "execution_count": 26,
   "metadata": {},
   "outputs": [],
   "source": [
    "#note we have 31 spectra to read in "
   ]
  },
  {
   "cell_type": "code",
   "execution_count": null,
   "metadata": {},
   "outputs": [],
   "source": []
  },
  {
   "cell_type": "code",
   "execution_count": 20,
   "metadata": {},
   "outputs": [
    {
     "name": "stdout",
     "output_type": "stream",
     "text": [
      "done\n"
     ]
    }
   ],
   "source": [
    "#step 1: make array of exposure names from 0-31 called listf\n",
    "os.chdir(\"/Users/amelia/Desktop/PHYSICS199/nsdrp/nsdrp_out/ascii/flux/wave\")\n",
    "def make_file_list(path): #defines make_file_list as a function\n",
    "    os.chdir(path) #changes directory to correct path \n",
    "    array_of_spectranames = [] #creates an empty array for spectra names\n",
    "    expnum = [] #creates second array for numbers\n",
    "    allnames=os.listdir() #makes list of allfiles in directory\n",
    "    for i in allnames: #for all items in directory\n",
    "        if \"wasp44b_spec_wlsol_order71_\" in i: #if file name contains string\n",
    "            array_of_spectranames.append(i) #append to empty array\n",
    "            expnum.append(float(i[30:32])) #append items with spectra number\n",
    "    array_of_spectranames= np.array(array_of_spectranames) #makes into numpy array\n",
    "    new_array = np.argsort(expnum) \n",
    "#    print(new_array, expnum, array_of_spectranames)\n",
    "    array_of_spectranames = array_of_spectranames[new_array] #rearranges exposure numbers\n",
    "    \n",
    "    \n",
    "    return array_of_spectranames, expnum, new_array\n",
    "\n",
    "\n",
    "listf, expnum, new_array=make_file_list(\"/Users/amelia/Desktop/PHYSICS199/nsdrp/nsdrp_out/ascii/flux/wave\")\n",
    "#print(listf) \n",
    "print('done')"
   ]
  },
  {
   "cell_type": "code",
   "execution_count": 22,
   "metadata": {},
   "outputs": [
    {
     "name": "stdout",
     "output_type": "stream",
     "text": [
      "[[[ 1.08087855e+04  1.08176951e+04  1.07909932e+04 ...  1.07995104e+04\n",
      "    1.07993717e+04  1.07995115e+04]\n",
      "  [ 3.23700000e+01  2.30200000e+02 -9.69900000e+00 ...  2.79600000e+03\n",
      "    2.72600000e+03  2.85900000e+03]\n",
      "  [ 1.31853360e+02  1.32374928e+02 -1.31923286e+02 ...  1.47624076e+02\n",
      "    1.47351351e+02  1.47675620e+02]]\n",
      "\n",
      " [[ 1.08088796e+04  1.08178015e+04  1.07911319e+04 ...  1.07996078e+04\n",
      "    1.07994698e+04  1.07996093e+04]\n",
      "  [-1.33300000e+01  1.42000000e+02  8.44500000e+01 ...  2.87000000e+03\n",
      "    2.98400000e+03  2.80400000e+03]\n",
      "  [-1.31330049e+02  1.31725417e+02  1.31235431e+02 ...  1.46803069e+02\n",
      "    1.47358025e+02  1.46960168e+02]]\n",
      "\n",
      " [[ 1.08089737e+04  1.08179080e+04  1.07912706e+04 ...  1.07997051e+04\n",
      "    1.07995679e+04  1.07997070e+04]\n",
      "  [-5.49500000e+01  5.17900000e+01 -6.96000000e+01 ...  3.10000000e+03\n",
      "    3.02500000e+03  2.89000000e+03]\n",
      "  [-1.31239551e+02  1.31513459e+02 -1.30655153e+02 ...  1.47268409e+02\n",
      "    1.47201946e+02  1.46775013e+02]]\n",
      "\n",
      " ...\n",
      "\n",
      " [[ 1.10024379e+04  1.10336747e+04  1.10772775e+04 ...  1.10065066e+04\n",
      "    1.10067068e+04  1.10067138e+04]\n",
      "  [ 5.80800000e+01  8.40000000e+01  4.92500000e+01 ...  1.97200000e+03\n",
      "    2.09600000e+03  1.79000000e+03]\n",
      "  [ 2.32041550e+02  2.32044199e+02  2.31003752e+02 ...  2.58385744e+02\n",
      "    2.58893281e+02  2.58036615e+02]]\n",
      "\n",
      " [[ 1.10025371e+04  1.10337827e+04  1.10774261e+04 ...  1.10066136e+04\n",
      "    1.10068149e+04  1.10068214e+04]\n",
      "  [ 4.07500000e+01  8.73200000e+01 -1.47900000e+01 ...  1.97500000e+03\n",
      "    2.07900000e+03  2.05000000e+03]\n",
      "  [ 2.32326112e+02  2.32419484e+02 -2.31129864e+02 ...  2.59663424e+02\n",
      "    2.59550562e+02  2.59526522e+02]]\n",
      "\n",
      " [[ 1.10026364e+04  1.10338907e+04  1.10775746e+04 ...  1.10067206e+04\n",
      "    1.10069230e+04  1.10069289e+04]\n",
      "  [ 4.67100000e+01  4.60700000e+01  7.68400000e+01 ...  2.02300000e+03\n",
      "    2.20000000e+03  1.89200000e+03]\n",
      "  [ 2.36267071e+02  2.36256410e+02  2.35128519e+02 ...  2.64064744e+02\n",
      "    2.64582081e+02  2.63803681e+02]]]\n"
     ]
    }
   ],
   "source": [
    "#step 2: make new 3d array, need wavelength solution, flux, and error for each solution\n",
    "nexp= len(listf) #tells length, 32\n",
    "testspectrum = np.load(listf[0]) #first index\n",
    "npix,ncolumn= np.shape(testspectrum) #assign pixels, columns\n",
    "\n",
    "all_spectra = np.zeros((npix,ncolumn,nexp)) #makes 3D array of zeroes\n",
    "\n",
    "all_spectra[0,:,:] #pixels 0 in every column in every exposure\n",
    "\n",
    "for i in range(nexp): #for i in range 0 to 32\n",
    "    all_spectra[:,:,i] = np.load(listf[i]) #selects first, second, and third 2d array\n",
    "print(all_spectra)   \n",
    "    "
   ]
  },
  {
   "cell_type": "code",
   "execution_count": 19,
   "metadata": {
    "scrolled": true
   },
   "outputs": [
    {
     "name": "stdout",
     "output_type": "stream",
     "text": [
      "[ 0  1  2  3  4  5  6  7  8  9 10 11 12 13 14 15 16 17 18 19 20 21] []\n"
     ]
    },
    {
     "data": {
      "text/plain": [
       "[<matplotlib.lines.Line2D at 0x1138e9dd0>]"
      ]
     },
     "execution_count": 19,
     "metadata": {},
     "output_type": "execute_result"
    },
    {
     "data": {
      "image/png": "[encoded data removed]",
      "text/plain": [
       "<Figure size 432x288 with 1 Axes>"
      ]
     },
     "metadata": {
      "needs_background": "light"
     },
     "output_type": "display_data"
    }
   ],
   "source": [
    "#step 3: \n",
    "# 2459154.92797 = midpoint of transit\n",
    "# 0.0936 = transit length\n",
    "#.0468 is half of the transit\n",
    "\n",
    "os.chdir(\"/Users/amelia/Desktop/PHYSICS199/nsdrp/nsdrp_out/ascii/flux\")\n",
    "\n",
    "midt = 2459154.92797 #in JD\n",
    "tdur = 0.0936 #in days\n",
    "t1 = midt - .5*tdur\n",
    "t4 = midt + .5*tdur\n",
    "\n",
    "jds = np.load('WASP44JDS.npy') #load in spectra times \n",
    "\n",
    "outix1 = np.where(jds<t1)[0]\n",
    "outix2 = np.where(jds>t4)[0] #no spectra\n",
    "print(outix1, outix2)\n",
    "\n",
    "aveflux = np.sum(all_spectra[:,1,outix1], axis=1) #average flux #need to normalize #take away from individual spectra\n",
    "plt.plot(aveflux)\n",
    "\n",
    "\n",
    "\n",
    "# #take average stellar spectrum away from in transit individual spectra\n",
    "# f = open('spectratimes.txt.txt', 'r') #open text file of times\n",
    "\n",
    "# #subtract the average flux calculated in list_offlux for each solution spectra n from the transit time in spectratimes.txt.txt\n",
    "# for \n",
    "\n",
    "\n",
    "# #that difference is the planetary signal \n",
    "# #shift the wavelenght solution once we have the difference in tbe flux "
   ]
  },
  {
   "cell_type": "code",
   "execution_count": 2,
   "metadata": {},
   "outputs": [],
   "source": [
    "#normalize the data\n",
    "\"\"\" The following program is an introduction to SPORK and instructions on how to apply it to spectra.\n",
    "    The first block is the source of SPORK, followed by the second block on how to use it and an explanation for it's parameters.\n",
    "    (More details on the README). \"\"\"\n",
    "import numpy as np\n",
    "import matplotlib.pyplot as plt\n",
    "import pandas as pd\n",
    "import os\n",
    "\n",
    "from scipy import interpolate\n",
    "from astropy.io import fits\n"
   ]
  },
  {
   "cell_type": "code",
   "execution_count": null,
   "metadata": {},
   "outputs": [],
   "source": [
    " shift the spectra to the planetary rest frame\n",
    "#look for excess absorption to shift\n",
    "#average of all out of transit spectra= stellar spectrum. when planet transits, take differentce in stellar spectrum and planet+stellar specttrum\n",
    "#stellar spectrum is average of all out of transit spectra\n",
    "#stellar spectrum is \"out\", star+planet is \"in transit\", give you total absorption in planetary reference frame\n",
    "\n",
    "#2459154.819 \n",
    "Event Midpoint JD UT [days]\n",
    "# 2459154.92797 = midpoint\n",
    "# 0.0936 = transit length\n",
    "#.0468 is half \n",
    "#"
   ]
  },
  {
   "cell_type": "code",
   "execution_count": 92,
   "metadata": {},
   "outputs": [],
   "source": []
  },
  {
   "cell_type": "code",
   "execution_count": 91,
   "metadata": {},
   "outputs": [],
   "source": [
    "\n"
   ]
  },
  {
   "cell_type": "code",
   "execution_count": null,
   "metadata": {},
   "outputs": [],
   "source": []
  },
  {
   "cell_type": "code",
   "execution_count": 24,
   "metadata": {},
   "outputs": [
    {
     "name": "stdout",
     "output_type": "stream",
     "text": [
      "[10799.15819093   669.8          134.2553618 ]\n"
     ]
    }
   ],
   "source": []
  },
  {
   "cell_type": "code",
   "execution_count": null,
   "metadata": {},
   "outputs": [],
   "source": []
  },
  {
   "cell_type": "code",
   "execution_count": null,
   "metadata": {},
   "outputs": [],
   "source": []
  },
  {
   "cell_type": "code",
   "execution_count": null,
   "metadata": {},
   "outputs": [],
   "source": []
  },
  {
   "cell_type": "code",
   "execution_count": null,
   "metadata": {},
   "outputs": [],
   "source": []
  },
  {
   "cell_type": "code",
   "execution_count": null,
   "metadata": {},
   "outputs": [],
   "source": [
    "\n"
   ]
  },
  {
   "cell_type": "code",
   "execution_count": null,
   "metadata": {},
   "outputs": [],
   "source": []
  },
  {
   "cell_type": "code",
   "execution_count": null,
   "metadata": {},
   "outputs": [],
   "source": []
  },
  {
   "cell_type": "code",
   "execution_count": null,
   "metadata": {},
   "outputs": [],
   "source": []
  }
 ],
 "metadata": {
  "kernelspec": {
   "display_name": "Python 3",
   "language": "python",
   "name": "python3"
  },
  "language_info": {
   "codemirror_mode": {
    "name": "ipython",
    "version": 3
   },
   "file_extension": ".py",
   "mimetype": "text/x-python",
   "name": "python",
   "nbconvert_exporter": "python",
   "pygments_lexer": "ipython3",
   "version": "3.7.4"
  }
 },
 "nbformat": 4,
 "nbformat_minor": 2
}
